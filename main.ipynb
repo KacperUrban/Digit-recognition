{
 "cells": [
  {
   "cell_type": "markdown",
   "metadata": {},
   "source": [
    "### Import libraries"
   ]
  },
  {
   "cell_type": "code",
   "execution_count": 49,
   "metadata": {},
   "outputs": [],
   "source": [
    "import random\n",
    "import pandas as pd\n",
    "from tqdm import tqdm\n",
    "import torch\n",
    "from torch import nn\n",
    "from torch.utils.data import DataLoader\n",
    "import matplotlib.pyplot as plt\n",
    "from torchvision import datasets\n",
    "from torchvision.transforms import v2\n",
    "import seaborn as sns\n",
    "from torchmetrics import Accuracy, ConfusionMatrix, Precision, Recall, F1Score"
   ]
  },
  {
   "cell_type": "markdown",
   "metadata": {},
   "source": [
    "### Setup device agnostic code"
   ]
  },
  {
   "cell_type": "code",
   "execution_count": 2,
   "metadata": {},
   "outputs": [
    {
     "data": {
      "text/plain": [
       "'cpu'"
      ]
     },
     "execution_count": 2,
     "metadata": {},
     "output_type": "execute_result"
    }
   ],
   "source": [
    "device = \"cuda\" if torch.cuda.is_available() else \"cpu\"\n",
    "device"
   ]
  },
  {
   "cell_type": "markdown",
   "metadata": {},
   "source": [
    "### Load data"
   ]
  },
  {
   "cell_type": "code",
   "execution_count": 3,
   "metadata": {},
   "outputs": [
    {
     "name": "stderr",
     "output_type": "stream",
     "text": [
      "c:\\Users\\48663\\Desktop\\Projects\\Digit-recognition\\venvmnist\\Lib\\site-packages\\torchvision\\transforms\\v2\\_deprecated.py:41: UserWarning: The transform `ToTensor()` is deprecated and will be removed in a future release. Instead, please use `v2.Compose([v2.ToImage(), v2.ToDtype(torch.float32, scale=True)])`.\n",
      "  warnings.warn(\n"
     ]
    }
   ],
   "source": [
    "train_data = datasets.MNIST(\n",
    "    root = \".\",\n",
    "    train = True,\n",
    "    download = True,\n",
    "    transform = v2.ToTensor(),\n",
    "    target_transform = None\n",
    ")\n",
    "\n",
    "test_data = datasets.MNIST(\n",
    "    root = \".\",\n",
    "    train = False,\n",
    "    download = True,\n",
    "    transform = v2.ToTensor()\n",
    ")"
   ]
  },
  {
   "cell_type": "code",
   "execution_count": 4,
   "metadata": {},
   "outputs": [
    {
     "data": {
      "text/plain": [
       "['0 - zero',\n",
       " '1 - one',\n",
       " '2 - two',\n",
       " '3 - three',\n",
       " '4 - four',\n",
       " '5 - five',\n",
       " '6 - six',\n",
       " '7 - seven',\n",
       " '8 - eight',\n",
       " '9 - nine']"
      ]
     },
     "execution_count": 4,
     "metadata": {},
     "output_type": "execute_result"
    }
   ],
   "source": [
    "class_names = train_data.classes\n",
    "class_names"
   ]
  },
  {
   "cell_type": "markdown",
   "metadata": {},
   "source": [
    "### Plot random images"
   ]
  },
  {
   "cell_type": "code",
   "execution_count": 5,
   "metadata": {},
   "outputs": [
    {
     "data": {
      "image/png": "[encoded data removed]",
      "text/plain": [
       "<Figure size 1600x800 with 6 Axes>"
      ]
     },
     "metadata": {},
     "output_type": "display_data"
    }
   ],
   "source": [
    "random.seed(42)\n",
    "rnd_idx = random.sample(range(len(train_data)), k=6)\n",
    "plt.figure(figsize=(16, 8))\n",
    "\n",
    "for i, idx in enumerate(rnd_idx):\n",
    "    \n",
    "    plt.subplot(1, 6, i+1)\n",
    "    img = train_data[idx][0].permute(1, 2, 0)\n",
    "    label = train_data[idx][1]\n",
    "    \n",
    "    plt.title(class_names[label])\n",
    "    plt.imshow(img)"
   ]
  },
  {
   "cell_type": "markdown",
   "metadata": {},
   "source": [
    "### Prepare DataLoader"
   ]
  },
  {
   "cell_type": "code",
   "execution_count": 6,
   "metadata": {},
   "outputs": [],
   "source": [
    "BATCH_SIZE=32\n",
    "\n",
    "train_dataloader = DataLoader(\n",
    "    train_data,\n",
    "    batch_size=BATCH_SIZE,\n",
    "    shuffle=True\n",
    ")\n",
    "\n",
    "test_dataloader = DataLoader(\n",
    "    test_data,\n",
    "    batch_size=BATCH_SIZE,\n",
    "    shuffle=False\n",
    ")"
   ]
  },
  {
   "cell_type": "code",
   "execution_count": 7,
   "metadata": {},
   "outputs": [
    {
     "name": "stdout",
     "output_type": "stream",
     "text": [
      "torch.Size([32, 1, 28, 28]) -> [Batch Size, Channels, Height, Width]\n"
     ]
    }
   ],
   "source": [
    "one_batch_feat, one_batch_lab = next(iter(train_dataloader))\n",
    "print(f\"{one_batch_feat.shape} -> [Batch Size, Channels, Height, Width]\")"
   ]
  },
  {
   "cell_type": "markdown",
   "metadata": {},
   "source": [
    "### Build simple model"
   ]
  },
  {
   "cell_type": "code",
   "execution_count": 8,
   "metadata": {},
   "outputs": [
    {
     "data": {
      "text/plain": [
       "ModelMnist1(\n",
       "  (block1): Sequential(\n",
       "    (0): Conv2d(1, 10, kernel_size=(3, 3), stride=(1, 1))\n",
       "    (1): ReLU()\n",
       "    (2): Conv2d(10, 10, kernel_size=(3, 3), stride=(1, 1))\n",
       "    (3): ReLU()\n",
       "    (4): MaxPool2d(kernel_size=2, stride=2, padding=0, dilation=1, ceil_mode=False)\n",
       "  )\n",
       "  (classifier): Sequential(\n",
       "    (0): Flatten(start_dim=1, end_dim=-1)\n",
       "    (1): Linear(in_features=1440, out_features=10, bias=True)\n",
       "  )\n",
       ")"
      ]
     },
     "execution_count": 8,
     "metadata": {},
     "output_type": "execute_result"
    }
   ],
   "source": [
    "class ModelMnist1(nn.Module):\n",
    "    def __init__(self, input_shape: int,  hidden_size: int, output_size: int) -> None:\n",
    "        super().__init__()\n",
    "        self.block1 = nn.Sequential(\n",
    "            nn.Conv2d(in_channels=input_shape, out_channels=hidden_size, kernel_size=3),\n",
    "            nn.ReLU(),\n",
    "            nn.Conv2d(in_channels=hidden_size, out_channels=hidden_size, kernel_size=3),\n",
    "            nn.ReLU(),\n",
    "            nn.MaxPool2d(2)\n",
    "        )\n",
    "        \n",
    "        self.classifier = nn.Sequential(\n",
    "            nn.Flatten(),\n",
    "            nn.Linear(in_features=hidden_size*12*12, out_features=output_size)\n",
    "        )\n",
    "    \n",
    "    def forward(self, x: torch.Tensor):\n",
    "        x = self.block1(x)\n",
    "        x = self.classifier(x)\n",
    "        return x\n",
    "        \n",
    "torch.manual_seed(42)\n",
    "model0 = ModelMnist1(1, 10, 10).to(device)\n",
    "model0"
   ]
  },
  {
   "cell_type": "markdown",
   "metadata": {},
   "source": [
    "### Build function for training and testing"
   ]
  },
  {
   "cell_type": "code",
   "execution_count": 9,
   "metadata": {},
   "outputs": [],
   "source": [
    "def train_func(\n",
    "    model: nn.Module,\n",
    "    dataloader: DataLoader,\n",
    "    loss_fn: nn.Module,\n",
    "    acc_fn,\n",
    "    optimizer: torch.optim.Optimizer,\n",
    "    device: torch.device    \n",
    "):\n",
    "    train_loss, train_acc = 0, 0\n",
    "    model.to(device)\n",
    "    model.train()\n",
    "    \n",
    "    for batch, (X,y) in enumerate(dataloader):\n",
    "        X, y = X.to(device), y.to(device)\n",
    "        \n",
    "        y_preds = model(X)\n",
    "        \n",
    "        loss = loss_fn(y_preds, y)\n",
    "        train_loss += loss\n",
    "        train_acc += acc_fn(y_preds, y)\n",
    "        \n",
    "        optimizer.zero_grad()\n",
    "        \n",
    "        loss.backward()\n",
    "        \n",
    "        optimizer.step()\n",
    "    train_loss /= len(dataloader)\n",
    "    train_acc /= len(dataloader)\n",
    "    \n",
    "    print(f\"Train loss: {train_loss:.3f}, Train accuracy: {train_acc:.2f}\")\n",
    "    \n",
    "    \n",
    "def test_func(\n",
    "    model: nn.Module,\n",
    "    dataloader: DataLoader,\n",
    "    loss_fn: nn.Module,\n",
    "    acc_fn,\n",
    "    device: torch.device  \n",
    "):\n",
    "    test_loss, test_acc = 0, 0\n",
    "    model.to(device)\n",
    "    model.eval()\n",
    "    \n",
    "    with torch.inference_mode():\n",
    "        for X, y in dataloader:\n",
    "            \n",
    "            X, y = X.to(device), y.to(device)\n",
    "            \n",
    "            test_pred = model(X)\n",
    "            \n",
    "            test_loss += loss_fn(test_pred, y)\n",
    "            test_acc += acc_fn(test_pred, y)\n",
    "            \n",
    "        test_loss /= len(dataloader)\n",
    "        test_acc /= len(dataloader)\n",
    "        print(f\"Test loss: {test_loss:.3f}, Test accuracy: {test_acc:.2f}\")"
   ]
  },
  {
   "cell_type": "markdown",
   "metadata": {},
   "source": [
    "### Model training"
   ]
  },
  {
   "cell_type": "code",
   "execution_count": 13,
   "metadata": {},
   "outputs": [
    {
     "name": "stderr",
     "output_type": "stream",
     "text": [
      "  0%|          | 0/3 [00:00<?, ?it/s]"
     ]
    },
    {
     "name": "stdout",
     "output_type": "stream",
     "text": [
      "Epoch: 0\n",
      "---------\n",
      "Train loss: 0.210, Train accuracy: 0.94\n",
      "Test loss: 0.071, Test accuracy: 0.98\n"
     ]
    },
    {
     "name": "stderr",
     "output_type": "stream",
     "text": [
      " 33%|███▎      | 1/3 [01:30<03:00, 90.44s/it]"
     ]
    },
    {
     "name": "stdout",
     "output_type": "stream",
     "text": [
      "Epoch: 1\n",
      "---------\n",
      "Train loss: 0.077, Train accuracy: 0.98\n",
      "Test loss: 0.060, Test accuracy: 0.98\n"
     ]
    },
    {
     "name": "stderr",
     "output_type": "stream",
     "text": [
      " 67%|██████▋   | 2/3 [02:53<01:25, 85.85s/it]"
     ]
    },
    {
     "name": "stdout",
     "output_type": "stream",
     "text": [
      "Epoch: 2\n",
      "---------\n",
      "Train loss: 0.059, Train accuracy: 0.98\n",
      "Test loss: 0.057, Test accuracy: 0.98\n"
     ]
    },
    {
     "name": "stderr",
     "output_type": "stream",
     "text": [
      "100%|██████████| 3/3 [04:16<00:00, 85.43s/it]\n"
     ]
    }
   ],
   "source": [
    "torch.manual_seed(42)\n",
    "\n",
    "loss_fn = nn.CrossEntropyLoss()\n",
    "optimizer = torch.optim.SGD(params=model0.parameters(), lr=0.1)\n",
    "acc = Accuracy(task=\"multiclass\", num_classes=len(class_names))\n",
    "epochs = 3\n",
    "for epoch in tqdm(range(epochs)):\n",
    "    print(f\"Epoch: {epoch}\\n---------\")\n",
    "    train_func(model0, train_dataloader, loss_fn, acc, optimizer, device)\n",
    "    test_func(model0, test_dataloader, loss_fn, acc, device)"
   ]
  },
  {
   "cell_type": "markdown",
   "metadata": {},
   "source": [
    "### Evaluate model random predictions"
   ]
  },
  {
   "cell_type": "code",
   "execution_count": 30,
   "metadata": {},
   "outputs": [
    {
     "name": "stdout",
     "output_type": "stream",
     "text": [
      "Test sample shape: torch.Size([1, 28, 28]), Test label: 2\n"
     ]
    }
   ],
   "source": [
    "random.seed(42)\n",
    "test_samples = []\n",
    "test_labels = []\n",
    "for sample, label in random.sample(list(test_data), k=9):\n",
    "    test_samples.append(sample)\n",
    "    test_labels.append(label)\n",
    "print(f\"Test sample shape: {test_samples[0].shape}, Test label: {test_labels[0]}\")"
   ]
  },
  {
   "cell_type": "code",
   "execution_count": 35,
   "metadata": {},
   "outputs": [
    {
     "data": {
      "text/plain": [
       "tensor([[3.4212e-08, 4.0491e-07, 9.9986e-01, 7.7896e-06, 4.2687e-15, 1.2491e-11,\n",
       "         5.1106e-10, 1.8640e-08, 1.3623e-04, 2.0221e-08],\n",
       "        [2.5495e-06, 9.5956e-01, 4.5556e-04, 3.4173e-04, 1.3024e-03, 5.9955e-03,\n",
       "         6.0155e-03, 1.1887e-04, 2.3841e-02, 2.3627e-03],\n",
       "        [9.7343e-05, 2.4604e-13, 9.9982e-01, 7.2521e-05, 5.7490e-12, 1.1524e-07,\n",
       "         2.4900e-10, 8.4071e-08, 1.4116e-05, 8.5521e-07],\n",
       "        [4.1146e-08, 8.1566e-07, 3.5917e-09, 1.2369e-05, 9.6559e-01, 2.5775e-06,\n",
       "         2.1612e-07, 1.0083e-05, 6.8191e-06, 3.4375e-02],\n",
       "        [6.1297e-06, 9.5137e-11, 3.8092e-09, 1.3107e-11, 7.2282e-07, 1.1499e-10,\n",
       "         9.9999e-01, 4.6253e-10, 2.0560e-08, 3.2152e-09],\n",
       "        [1.7544e-04, 6.6648e-09, 4.5413e-08, 4.4964e-09, 2.7896e-05, 1.6165e-10,\n",
       "         9.9980e-01, 9.8402e-09, 1.9134e-07, 2.7796e-08],\n",
       "        [2.9338e-11, 8.3386e-07, 2.8655e-08, 5.9324e-09, 9.9982e-01, 3.0843e-08,\n",
       "         4.5461e-10, 3.4156e-06, 5.2133e-06, 1.7442e-04],\n",
       "        [1.8811e-09, 2.5363e-11, 2.0570e-09, 3.4676e-06, 2.9474e-07, 5.6293e-08,\n",
       "         2.3429e-11, 2.8428e-06, 1.9814e-07, 9.9999e-01],\n",
       "        [4.6282e-06, 9.9773e-01, 4.4325e-05, 6.2335e-05, 2.4098e-04, 2.2111e-05,\n",
       "         4.4954e-05, 3.0911e-05, 1.6467e-03, 1.7423e-04]])"
      ]
     },
     "execution_count": 35,
     "metadata": {},
     "output_type": "execute_result"
    }
   ],
   "source": [
    "pred_probs = []\n",
    "model0.eval()\n",
    "\n",
    "with torch.inference_mode():\n",
    "    for sample in test_samples:\n",
    "        sample = torch.unsqueeze(sample, dim=0).to(device)\n",
    "        \n",
    "        pred_logit = model0(sample)\n",
    "        \n",
    "        pred_prob = torch.softmax(pred_logit.squeeze(), dim=0)\n",
    "        pred_probs.append(pred_prob)\n",
    "pred_probs = torch.stack(pred_probs)\n",
    "pred_probs"
   ]
  },
  {
   "cell_type": "code",
   "execution_count": 36,
   "metadata": {},
   "outputs": [
    {
     "data": {
      "text/plain": [
       "tensor([2, 1, 2, 4, 6, 6, 4, 9, 1])"
      ]
     },
     "execution_count": 36,
     "metadata": {},
     "output_type": "execute_result"
    }
   ],
   "source": [
    "pred_class = pred_probs.argmax(dim=1)\n",
    "pred_class"
   ]
  },
  {
   "cell_type": "code",
   "execution_count": 37,
   "metadata": {},
   "outputs": [
    {
     "data": {
      "image/png": "[encoded data removed]",
      "text/plain": [
       "<Figure size 900x900 with 9 Axes>"
      ]
     },
     "metadata": {},
     "output_type": "display_data"
    }
   ],
   "source": [
    "plt.figure(figsize=(9, 9))\n",
    "\n",
    "for i, sample in enumerate(test_samples):\n",
    "    plt.subplot(3, 3, i+1)\n",
    "    \n",
    "    plt.imshow(sample.squeeze())\n",
    "    \n",
    "    pred_label = class_names[pred_class[i]]\n",
    "    \n",
    "    true_label = class_names[test_labels[i]]\n",
    "    title_text = f\"Pred: {pred_label} | Truth: {true_label}\"\n",
    "    \n",
    "    if pred_label == true_label:\n",
    "      plt.title(title_text, fontsize=10, c=\"g\")\n",
    "    else:\n",
    "      plt.title(title_text, fontsize=10, c=\"r\")\n",
    "    plt.axis(False);"
   ]
  },
  {
   "cell_type": "markdown",
   "metadata": {},
   "source": [
    "### Evaluate model performance"
   ]
  },
  {
   "cell_type": "code",
   "execution_count": 39,
   "metadata": {},
   "outputs": [
    {
     "name": "stderr",
     "output_type": "stream",
     "text": [
      "Making predictions: 100%|██████████| 313/313 [00:02<00:00, 125.54it/s]\n"
     ]
    }
   ],
   "source": [
    "y_preds = []\n",
    "model0.eval()\n",
    "with torch.inference_mode():\n",
    "  for X, y in tqdm(test_dataloader, desc=\"Making predictions\"):\n",
    "\n",
    "    X, y = X.to(device), y.to(device)\n",
    "\n",
    "    y_logit = model0(X)\n",
    "    \n",
    "    y_pred = torch.softmax(y_logit, dim=1).argmax(dim=1)\n",
    "\n",
    "    y_preds.append(y_pred.cpu())\n",
    "\n",
    "y_pred_tensor = torch.cat(y_preds)"
   ]
  },
  {
   "cell_type": "code",
   "execution_count": 41,
   "metadata": {},
   "outputs": [],
   "source": [
    "confusion_mat = ConfusionMatrix(num_classes=len(class_names), task=\"multiclass\")\n",
    "prec = Precision(num_classes=len(class_names), task=\"multiclass\")\n",
    "recall = Recall(num_classes=len(class_names), task=\"multiclass\")\n",
    "f1score = F1Score(num_classes=len(class_names), task=\"multiclass\")"
   ]
  },
  {
   "cell_type": "code",
   "execution_count": 46,
   "metadata": {},
   "outputs": [
    {
     "name": "stdout",
     "output_type": "stream",
     "text": [
      "Precision: 98.15\n",
      "Recall: 98.15\n",
      "F1score: 98.15\n"
     ]
    }
   ],
   "source": [
    "confmat_tensor = confusion_mat(preds=y_pred_tensor,\n",
    "                         target=test_data.targets)\n",
    "prec_val = prec(preds=y_pred_tensor,\n",
    "                         target=test_data.targets)\n",
    "recall_val = recall(preds=y_pred_tensor,\n",
    "                         target=test_data.targets)\n",
    "f1score_val = f1score(preds=y_pred_tensor,\n",
    "                         target=test_data.targets)\n",
    "print(f\"Precision: {prec_val*100:.2f}\")\n",
    "print(f\"Recall: {recall_val*100:.2f}\")\n",
    "print(f\"F1score: {f1score_val*100:.2f}\")"
   ]
  },
  {
   "cell_type": "code",
   "execution_count": 66,
   "metadata": {},
   "outputs": [
    {
     "data": {
      "image/png": "[encoded data removed]",
      "text/plain": [
       "<Figure size 800x600 with 2 Axes>"
      ]
     },
     "metadata": {},
     "output_type": "display_data"
    }
   ],
   "source": [
    "df_conf_mat = pd.DataFrame(confmat_tensor.numpy(), range(10), range(10))\n",
    "plt.figure(figsize=(8, 6))\n",
    "sns.heatmap(df_conf_mat, annot=True, annot_kws={\"size\": 9}, cmap=\"YlGnBu\")\n",
    "plt.show()"
   ]
  }
 ],
 "metadata": {
  "kernelspec": {
   "display_name": "venvmnist",
   "language": "python",
   "name": "venvmnist"
  },
  "language_info": {
   "codemirror_mode": {
    "name": "ipython",
    "version": 3
   },
   "file_extension": ".py",
   "mimetype": "text/x-python",
   "name": "python",
   "nbconvert_exporter": "python",
   "pygments_lexer": "ipython3",
   "version": "3.11.5"
  }
 },
 "nbformat": 4,
 "nbformat_minor": 2
}
